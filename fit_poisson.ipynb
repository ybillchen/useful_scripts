{
 "cells": [
  {
   "cell_type": "markdown",
   "id": "9a343c9b-a167-42f2-9651-f28db74149dc",
   "metadata": {},
   "source": [
    "## fit the power-law distribution with exponential cutoff with x error, y error, and instrinsic scatter\n",
    "\n",
    "We try to fit the following form\n",
    "$$\n",
    "y_{\\rm model} = \\frac{dN}{d\\log_{10}x}= 10^A x^{-\\beta}\\exp (-x/x_c)\n",
    "$$\n",
    "\n",
    "$A$, $\\beta$, $x_c$ all have uncertainty\n",
    "\n",
    "The Poisson's liklihood function is\n",
    "$$\n",
    "\\ln L = \\sum_i -y_{\\rm model} - \\ln(y_i!) + y_i\\ln y_{\\rm model}\n",
    "$$"
   ]
  },
  {
   "cell_type": "code",
   "execution_count": null,
   "id": "4cab36f0-5462-49b6-b4ff-8864522b4301",
   "metadata": {},
   "outputs": [],
   "source": [
    "import numpy as np\n",
    "from scipy.optimize import minimize\n",
    "from scipy.special import factorial, gammaln\n",
    "from scipy.integrate import quad\n",
    "\n",
    "import matplotlib.pyplot as plt"
   ]
  },
  {
   "cell_type": "code",
   "execution_count": null,
   "id": "7b681b42-21d2-403f-82b5-7c78d278aa85",
   "metadata": {},
   "outputs": [],
   "source": [
    "def powerlaw_expcutoff(p, logx):\n",
    "    A = p[0]\n",
    "    beta = p[1]\n",
    "    logxc = p[2]\n",
    "    \n",
    "    x = 10**logx\n",
    "    xc = 10**logxc\n",
    "    return 10**A * x**(-beta) * np.exp(-x/xc)\n",
    "\n",
    "def get_A(beta, logxc, logxmin, size, dlogx):\n",
    "    func = lambda logx: powerlaw_expcutoff([0, beta, logxc], logx)\n",
    "    return np.log10(size*dlogx / quad(func, logxmin, 10)[0])\n",
    "\n",
    "def neg_log_poisson_likelihood(p, logx, y):\n",
    "    ymodel = powerlaw_expcutoff(p, logx)\n",
    "    return -np.sum(-ymodel-gammaln(y+1)+np.log(ymodel)*y)"
   ]
  },
  {
   "cell_type": "code",
   "execution_count": null,
   "id": "9d228137-5513-4680-8997-1fb05047bb22",
   "metadata": {},
   "outputs": [],
   "source": [
    "# generate test data\n",
    "\n",
    "def sample_powerlaw_expcutoff(rng, logxmin=2, beta=2, logxc=3, size=10000):\n",
    "    # ChatGPT made this. I don't know if it's correct\n",
    "    xc = 10**logxc\n",
    "    samples = []\n",
    "    while len(samples) < size:\n",
    "        x = 10**logxmin * (1 - rng.random()) ** (-1 / (beta - 1))\n",
    "\n",
    "        accept_prob = np.exp(-x / 10**logxc)\n",
    "\n",
    "        if rng.random() < accept_prob:\n",
    "            samples.append(x)\n",
    "\n",
    "    return np.array(samples)\n",
    "\n",
    "\n",
    "rng = np.random.default_rng(0)\n",
    "\n",
    "size = 1000\n",
    "logxmin = 2\n",
    "beta_true = 1 # beta here is the slope of dN/dlogx, not dN/dx\n",
    "logxc_true = 4\n",
    "\n",
    "data = sample_powerlaw_expcutoff(rng, logxmin=logxmin, beta=beta_true+1, logxc=logxc_true, size=size)"
   ]
  },
  {
   "cell_type": "code",
   "execution_count": null,
   "id": "a1474dd4-034f-4530-9f3d-7b369777febc",
   "metadata": {},
   "outputs": [],
   "source": [
    "# fit the parameters\n",
    "\n",
    "dlogx = 0.1\n",
    "bins = np.arange(logxmin, 5, dlogx)\n",
    "logx = 0.5 * (bins[1:] + bins[:-1])\n",
    "y = np.histogram(np.log10(data), bins=bins)[0]\n",
    "\n",
    "A_true = get_A(beta_true, logxc_true, logxmin=logxmin, size=size, dlogx=dlogx)\n",
    "\n",
    "bnds = ((2, 8), (0, 4), (0, 5))\n",
    "guess = [4,2,5]\n",
    "\n",
    "o = minimize(neg_log_poisson_likelihood, guess, args=(logx,y), bounds=bnds)\n",
    "A, beta, logxc = o.x\n",
    "\n",
    "print('A_true = %.4g, A = %.3f'%(A_true, A))\n",
    "print('beta_true = %.3g, beta = %.3f'%(beta_true, beta))\n",
    "print('logxc_true = %.3g, logxc = %.3f'%(logxc_true, logxc))"
   ]
  },
  {
   "cell_type": "code",
   "execution_count": null,
   "id": "f033fe9e-9735-40dd-bd3e-8798103c8e4b",
   "metadata": {},
   "outputs": [],
   "source": [
    "# get uncertainties with bootstrap\n",
    "\n",
    "nboot = 100\n",
    "data_boot = data[rng.integers(0, size, (nboot, size))]\n",
    "\n",
    "A_arr = np.zeros(nboot)\n",
    "beta_arr = np.zeros(nboot)\n",
    "logxc_arr = np.zeros(nboot)\n",
    "\n",
    "for i, d in enumerate(data_boot):\n",
    "    yboot = np.histogram(np.log10(d), bins=bins)[0]\n",
    "    o = minimize(neg_log_poisson_likelihood, guess, args=(logx,yboot), bounds=bnds)\n",
    "    A_arr[i] = o.x[0]\n",
    "    beta_arr[i] = o.x[1]\n",
    "    logxc_arr[i] = o.x[2]\n",
    "\n",
    "print('A_true = %.4g, A = %.3f +- %.3f'%(A_true, np.mean(A_arr), np.std(A_arr)))\n",
    "print('beta_true = %.3g, beta = %.3f +- %.3f'%(beta_true, np.mean(beta_arr), np.std(beta_arr)))\n",
    "print('logxc_true = %.3g, logxc = %.3f +- %.3f'%(logxc_true, np.mean(logxc_arr), np.std(logxc_arr)))"
   ]
  },
  {
   "cell_type": "code",
   "execution_count": null,
   "id": "8d2e8e0d-db48-4e1f-8479-60becbbf75d2",
   "metadata": {},
   "outputs": [],
   "source": [
    "plt.step(10**logx, y, c='k', where='mid')\n",
    "plt.plot(10**logx, powerlaw_expcutoff([A_true, beta_true, logxc_true], logx), c='k', lw=2, label='True')\n",
    "plt.plot(10**logx, powerlaw_expcutoff([A, beta, logxc], logx), c='r', lw=2, label='Fit')\n",
    "\n",
    "for A_boot, beta_boot, logxc_boot in zip(A_arr, beta_arr, logxc_arr):\n",
    "    plt.plot(10**logx, powerlaw_expcutoff([A_boot, beta_boot, logxc_boot], logx), c='r', alpha=0.1, lw=0.5)\n",
    "\n",
    "plt.legend()\n",
    "\n",
    "plt.xlabel('x')\n",
    "plt.ylabel('dN/dx')\n",
    "plt.xscale('log')\n",
    "plt.yscale('log')\n",
    "plt.xlim(1e2,1e5)\n",
    "plt.ylim(1e-1,3e2)\n",
    "\n",
    "plt.show()"
   ]
  }
 ],
 "metadata": {
  "kernelspec": {
   "display_name": "Python 3 (ipykernel)",
   "language": "python",
   "name": "python3"
  },
  "language_info": {
   "codemirror_mode": {
    "name": "ipython",
    "version": 3
   },
   "file_extension": ".py",
   "mimetype": "text/x-python",
   "name": "python",
   "nbconvert_exporter": "python",
   "pygments_lexer": "ipython3",
   "version": "3.8.3"
  }
 },
 "nbformat": 4,
 "nbformat_minor": 5
}
